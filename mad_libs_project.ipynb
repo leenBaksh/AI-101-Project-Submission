{
  "nbformat": 4,
  "nbformat_minor": 0,
  "metadata": {
    "colab": {
      "provenance": [],
      "authorship_tag": "ABX9TyPBaA62GoaOB4hQ6XkbrZeU",
      "include_colab_link": true
    },
    "kernelspec": {
      "name": "python3",
      "display_name": "Python 3"
    },
    "language_info": {
      "name": "python"
    }
  },
  "cells": [
    {
      "cell_type": "markdown",
      "metadata": {
        "id": "view-in-github",
        "colab_type": "text"
      },
      "source": [
        "<a href=\"https://colab.research.google.com/github/leenBaksh/AI-101-Project-Submission/blob/main/mad_libs_project.ipynb\" target=\"_parent\"><img src=\"https://colab.research.google.com/assets/colab-badge.svg\" alt=\"Open In Colab\"/></a>"
      ]
    },
    {
      "cell_type": "markdown",
      "source": [
        "# Project 1: 🧠 Mad Libs Python Project"
      ],
      "metadata": {
        "id": "xcjomZub3snq"
      }
    },
    {
      "cell_type": "code",
      "execution_count": null,
      "metadata": {
        "colab": {
          "base_uri": "https://localhost:8080/"
        },
        "id": "qpS6sNfhJQOt",
        "outputId": "40e11ab1-fa07-411c-b303-d40fcd6e9ef3"
      },
      "outputs": [
        {
          "metadata": {
            "tags": null
          },
          "name": "stdout",
          "output_type": "stream",
          "text": [
            "Let's create a fun Mad Libs story!\n"
          ]
        }
      ],
      "source": [
        "# Mad Libs Project\n",
        "\n",
        "print(\"Let's create a fun Mad Libs story!\")\n",
        "\n",
        "adj = input(\"Enter another adjective: \")\n",
        "verb1 = input(\"Enter a verb: \")\n",
        "verb2 = input(\"Enter another verb: \")\n",
        "famous_person = input(\"Famous peron: \")\n",
        "\n",
        "story = f\"Computer programming is so {adj}! It makes me so excited all the time because \\\n",
        "I love to {verb1}. Stay hydrated and {verb2} like you are {famous_person}!\"\n",
        "\n",
        "print(\"\\nHere's your story:\")\n",
        "print(story)\n",
        "\n"
      ]
    },
    {
      "cell_type": "markdown",
      "source": [],
      "metadata": {
        "id": "loq36Dr23vK0"
      }
    }
  ]
}