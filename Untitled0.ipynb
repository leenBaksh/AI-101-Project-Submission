{
  "nbformat": 4,
  "nbformat_minor": 0,
  "metadata": {
    "colab": {
      "provenance": [],
      "authorship_tag": "ABX9TyMJ8HxjnpU5aOWOEjry2xzx",
      "include_colab_link": true
    },
    "kernelspec": {
      "name": "python3",
      "display_name": "Python 3"
    },
    "language_info": {
      "name": "python"
    }
  },
  "cells": [
    {
      "cell_type": "markdown",
      "metadata": {
        "id": "view-in-github",
        "colab_type": "text"
      },
      "source": [
        "<a href=\"https://colab.research.google.com/github/leenBaksh/AI-101-Project-Submission/blob/main/Untitled0.ipynb\" target=\"_parent\"><img src=\"https://colab.research.google.com/assets/colab-badge.svg\" alt=\"Open In Colab\"/></a>"
      ]
    },
    {
      "cell_type": "markdown",
      "source": [
        "## **PROJECT 2: COMPUTER GUSSING GAME**"
      ],
      "metadata": {
        "id": "xIGENOAL7YxQ"
      }
    },
    {
      "cell_type": "code",
      "source": [
        "import random\n",
        "\n",
        "def computer_guess(x):\n",
        "    low = 1\n",
        "    high = x\n",
        "    feedback = ''\n",
        "\n",
        "\n",
        "    while feedback != 'c':\n",
        "\n",
        "        guess = random.randint(low, high)\n",
        "\n",
        "        feedback = input(f\"Is {guess} too High (H), too Low (L), or correct (C)? \").lower()\n",
        "\n",
        "        if feedback == 'h':\n",
        "            high = guess -1\n",
        "\n",
        "        elif feedback == 'l':\n",
        "            low = guess +1\n",
        "\n",
        "    print(f\"The computer guessed your number, {guess}, correctly!\")\n",
        "\n",
        "computer_guess(10)"
      ],
      "metadata": {
        "id": "BPHgEfBc7ryE"
      },
      "execution_count": null,
      "outputs": []
    }
  ]
}