{
  "nbformat": 4,
  "nbformat_minor": 0,
  "metadata": {
    "colab": {
      "provenance": [],
      "authorship_tag": "ABX9TyOoROtcXqmnJ7yNytIMRJYO",
      "include_colab_link": true
    },
    "kernelspec": {
      "name": "python3",
      "display_name": "Python 3"
    },
    "language_info": {
      "name": "python"
    }
  },
  "cells": [
    {
      "cell_type": "markdown",
      "metadata": {
        "id": "view-in-github",
        "colab_type": "text"
      },
      "source": [
        "<a href=\"https://colab.research.google.com/github/leenBaksh/AI-101-Project-Submission/blob/main/Untitled2.ipynb\" target=\"_parent\"><img src=\"https://colab.research.google.com/assets/colab-badge.svg\" alt=\"Open In Colab\"/></a>"
      ]
    },
    {
      "cell_type": "markdown",
      "source": [
        "### **Project 4: Rock, paper, scissors Python Project**"
      ],
      "metadata": {
        "id": "D_ZUt1ci91Vc"
      }
    },
    {
      "cell_type": "code",
      "source": [
        "import random\n",
        "\n",
        "def play():\n",
        "    user = input(\"What's your choice? 'r' for rock, 'p' for paper, 's' for scissors\\n\")\n",
        "    computer = random.choice(['r', 'p', 's'])\n",
        "\n",
        "    if user == computer:\n",
        "        return 'It\\'s a tie'\n",
        "\n",
        "\n",
        "    if is_win(user, computer):\n",
        "        return 'You won!'\n",
        "\n",
        "    return 'You lost!'\n",
        "\n",
        "def is_win(player, opponent):\n",
        "    if (player == 'r' and opponent == 's') or (player == 's' and opponent == 'p') \\\n",
        "    or (player == 'p' and opponent == 'r'):\n",
        "\n",
        "        return True\n",
        "\n",
        "print(play())"
      ],
      "metadata": {
        "id": "dJBrI32A977h"
      },
      "execution_count": null,
      "outputs": []
    }
  ]
}