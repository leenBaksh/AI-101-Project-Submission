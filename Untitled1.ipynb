{
  "nbformat": 4,
  "nbformat_minor": 0,
  "metadata": {
    "colab": {
      "provenance": [],
      "authorship_tag": "ABX9TyMBG/Uq+2ZUFd7JohB9Jj6K",
      "include_colab_link": true
    },
    "kernelspec": {
      "name": "python3",
      "display_name": "Python 3"
    },
    "language_info": {
      "name": "python"
    }
  },
  "cells": [
    {
      "cell_type": "markdown",
      "metadata": {
        "id": "view-in-github",
        "colab_type": "text"
      },
      "source": [
        "<a href=\"https://colab.research.google.com/github/leenBaksh/AI-101-Project-Submission/blob/main/Untitled1.ipynb\" target=\"_parent\"><img src=\"https://colab.research.google.com/assets/colab-badge.svg\" alt=\"Open In Colab\"/></a>"
      ]
    },
    {
      "cell_type": "markdown",
      "source": [
        "### **Project 3: Guess the Number Game**"
      ],
      "metadata": {
        "id": "UXSN0pnd88N2"
      }
    },
    {
      "cell_type": "code",
      "source": [
        "import random\n",
        "\n",
        "\n",
        "def guess(x):\n",
        "    random_number = random.randint(1, x)\n",
        "    guess = 0\n",
        "\n",
        "    while guess != random_number:\n",
        "        guess = int(input(f\"Guess a number between 1 and {x}: \"))\n",
        "        if guess < random_number:\n",
        "            print(\"Sorry, guess again. Too Low\")\n",
        "        elif guess > random_number:\n",
        "            print(\"Sorry, guess again. Too High\")\n",
        "\n",
        "    print(f\"Congrats! You have guessed the number {random_number} correctly!\")\n",
        "\n",
        "guess(10)"
      ],
      "metadata": {
        "id": "sIfBFCYE9BEq"
      },
      "execution_count": null,
      "outputs": []
    }
  ]
}